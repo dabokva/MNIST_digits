{
 "cells": [
  {
   "cell_type": "markdown",
   "metadata": {},
   "source": [
    "# MNIST DATASET"
   ]
  },
  {
   "cell_type": "markdown",
   "metadata": {},
   "source": [
    "# Intro"
   ]
  },
  {
   "cell_type": "markdown",
   "metadata": {},
   "source": [
    "The goal of this project is a simple classification of hand-written digits from the infamous MNIST dataset."
   ]
  },
  {
   "cell_type": "markdown",
   "metadata": {},
   "source": [
    "# EDA"
   ]
  },
  {
   "cell_type": "markdown",
   "metadata": {},
   "source": [
    "First of all, I need to import required (for now) libraries."
   ]
  },
  {
   "cell_type": "code",
   "execution_count": 20,
   "metadata": {},
   "outputs": [],
   "source": [
    "import pandas as pd\n",
    "import numpy as np\n",
    "import matplotlib.pyplot as plt\n",
    "import seaborn as sb\n",
    "import random\n",
    "\n",
    "import tensorflow as tf"
   ]
  },
  {
   "cell_type": "markdown",
   "metadata": {},
   "source": [
    "I will start with a simple overview of the dataset."
   ]
  },
  {
   "cell_type": "code",
   "execution_count": 21,
   "metadata": {},
   "outputs": [
    {
     "name": "stdout",
     "output_type": "stream",
     "text": [
      "train images array shape (60000, 28, 28)\n",
      "train labels array shape (60000,)\n",
      "test images array shape (10000, 28, 28)\n",
      "test labels array shape (10000,)\n"
     ]
    }
   ],
   "source": [
    "(x_train, y_train), (x_test, y_test) = tf.keras.datasets.mnist.load_data()\n",
    "\n",
    "print('train images array shape', x_train.shape)\n",
    "print('train labels array shape', y_train.shape)\n",
    "print('test images array shape', x_test.shape)\n",
    "print('test labels array shape', y_test.shape)"
   ]
  },
  {
   "cell_type": "markdown",
   "metadata": {},
   "source": [
    "Thus we have 3D tensor representing a list of 28*28-pixel images (or matrices) of handwritten digits."
   ]
  },
  {
   "cell_type": "markdown",
   "metadata": {},
   "source": [
    "Now I will determine how many unique classes this dataset has as well as their distribution."
   ]
  },
  {
   "cell_type": "code",
   "execution_count": 22,
   "metadata": {},
   "outputs": [
    {
     "name": "stdout",
     "output_type": "stream",
     "text": [
      "number of unique classes:  0    10\n",
      "dtype: int64\n"
     ]
    },
    {
     "data": {
      "image/png": "[encoded data removed]",
      "text/plain": [
       "<Figure size 1000x600 with 1 Axes>"
      ]
     },
     "metadata": {},
     "output_type": "display_data"
    }
   ],
   "source": [
    "x_train_df = pd.DataFrame(x_train.reshape((60000, 28 * 28)))\n",
    "y_train_df = pd.DataFrame(y_train)\n",
    "\n",
    "print('number of unique classes: ', y_train_df.nunique())\n",
    "class_distr = y_train_df.value_counts()\n",
    "ticks_distr = np.arange(0, 10, 1)\n",
    "\n",
    "plt.figure(figsize=(10, 6))\n",
    "plt.bar(ticks_distr, class_distr, color='purple', alpha=0.6)\n",
    "plt.xticks(ticks_distr)\n",
    "plt.title('Distribution of classes', fontsize=12)\n",
    "plt.ylabel('number of samples', fontsize=11)\n",
    "plt.xlabel('class', fontsize=11)\n",
    "plt.show();"
   ]
  },
  {
   "cell_type": "markdown",
   "metadata": {},
   "source": [
    "There is a small imbalanceness, however, at this point I can't possibly know how it will affect the performance of the models. So in the following there might be a reason to make some additional preprocessing of the data."
   ]
  },
  {
   "cell_type": "markdown",
   "metadata": {},
   "source": [
    "Now I will look at the overall characteristics of the data."
   ]
  },
  {
   "cell_type": "code",
   "execution_count": 23,
   "metadata": {},
   "outputs": [
    {
     "data": {
      "text/html": [
       "<div>\n",
       "<style scoped>\n",
       "    .dataframe tbody tr th:only-of-type {\n",
       "        vertical-align: middle;\n",
       "    }\n",
       "\n",
       "    .dataframe tbody tr th {\n",
       "        vertical-align: top;\n",
       "    }\n",
       "\n",
       "    .dataframe thead th {\n",
       "        text-align: right;\n",
       "    }\n",
       "</style>\n",
       "<table border=\"1\" class=\"dataframe\">\n",
       "  <thead>\n",
       "    <tr style=\"text-align: right;\">\n",
       "      <th></th>\n",
       "      <th>0</th>\n",
       "      <th>1</th>\n",
       "      <th>2</th>\n",
       "      <th>3</th>\n",
       "      <th>4</th>\n",
       "      <th>5</th>\n",
       "      <th>6</th>\n",
       "      <th>7</th>\n",
       "      <th>8</th>\n",
       "      <th>9</th>\n",
       "      <th>...</th>\n",
       "      <th>774</th>\n",
       "      <th>775</th>\n",
       "      <th>776</th>\n",
       "      <th>777</th>\n",
       "      <th>778</th>\n",
       "      <th>779</th>\n",
       "      <th>780</th>\n",
       "      <th>781</th>\n",
       "      <th>782</th>\n",
       "      <th>783</th>\n",
       "    </tr>\n",
       "  </thead>\n",
       "  <tbody>\n",
       "    <tr>\n",
       "      <th>count</th>\n",
       "      <td>60000.0</td>\n",
       "      <td>60000.0</td>\n",
       "      <td>60000.0</td>\n",
       "      <td>60000.0</td>\n",
       "      <td>60000.0</td>\n",
       "      <td>60000.0</td>\n",
       "      <td>60000.0</td>\n",
       "      <td>60000.0</td>\n",
       "      <td>60000.0</td>\n",
       "      <td>60000.0</td>\n",
       "      <td>...</td>\n",
       "      <td>60000.000000</td>\n",
       "      <td>60000.000000</td>\n",
       "      <td>60000.000000</td>\n",
       "      <td>60000.000000</td>\n",
       "      <td>60000.000000</td>\n",
       "      <td>60000.0000</td>\n",
       "      <td>60000.0</td>\n",
       "      <td>60000.0</td>\n",
       "      <td>60000.0</td>\n",
       "      <td>60000.0</td>\n",
       "    </tr>\n",
       "    <tr>\n",
       "      <th>mean</th>\n",
       "      <td>0.0</td>\n",
       "      <td>0.0</td>\n",
       "      <td>0.0</td>\n",
       "      <td>0.0</td>\n",
       "      <td>0.0</td>\n",
       "      <td>0.0</td>\n",
       "      <td>0.0</td>\n",
       "      <td>0.0</td>\n",
       "      <td>0.0</td>\n",
       "      <td>0.0</td>\n",
       "      <td>...</td>\n",
       "      <td>0.200433</td>\n",
       "      <td>0.088867</td>\n",
       "      <td>0.045633</td>\n",
       "      <td>0.019283</td>\n",
       "      <td>0.015117</td>\n",
       "      <td>0.0020</td>\n",
       "      <td>0.0</td>\n",
       "      <td>0.0</td>\n",
       "      <td>0.0</td>\n",
       "      <td>0.0</td>\n",
       "    </tr>\n",
       "    <tr>\n",
       "      <th>std</th>\n",
       "      <td>0.0</td>\n",
       "      <td>0.0</td>\n",
       "      <td>0.0</td>\n",
       "      <td>0.0</td>\n",
       "      <td>0.0</td>\n",
       "      <td>0.0</td>\n",
       "      <td>0.0</td>\n",
       "      <td>0.0</td>\n",
       "      <td>0.0</td>\n",
       "      <td>0.0</td>\n",
       "      <td>...</td>\n",
       "      <td>6.042472</td>\n",
       "      <td>3.956189</td>\n",
       "      <td>2.839845</td>\n",
       "      <td>1.686770</td>\n",
       "      <td>1.678283</td>\n",
       "      <td>0.3466</td>\n",
       "      <td>0.0</td>\n",
       "      <td>0.0</td>\n",
       "      <td>0.0</td>\n",
       "      <td>0.0</td>\n",
       "    </tr>\n",
       "    <tr>\n",
       "      <th>min</th>\n",
       "      <td>0.0</td>\n",
       "      <td>0.0</td>\n",
       "      <td>0.0</td>\n",
       "      <td>0.0</td>\n",
       "      <td>0.0</td>\n",
       "      <td>0.0</td>\n",
       "      <td>0.0</td>\n",
       "      <td>0.0</td>\n",
       "      <td>0.0</td>\n",
       "      <td>0.0</td>\n",
       "      <td>...</td>\n",
       "      <td>0.000000</td>\n",
       "      <td>0.000000</td>\n",
       "      <td>0.000000</td>\n",
       "      <td>0.000000</td>\n",
       "      <td>0.000000</td>\n",
       "      <td>0.0000</td>\n",
       "      <td>0.0</td>\n",
       "      <td>0.0</td>\n",
       "      <td>0.0</td>\n",
       "      <td>0.0</td>\n",
       "    </tr>\n",
       "    <tr>\n",
       "      <th>25%</th>\n",
       "      <td>0.0</td>\n",
       "      <td>0.0</td>\n",
       "      <td>0.0</td>\n",
       "      <td>0.0</td>\n",
       "      <td>0.0</td>\n",
       "      <td>0.0</td>\n",
       "      <td>0.0</td>\n",
       "      <td>0.0</td>\n",
       "      <td>0.0</td>\n",
       "      <td>0.0</td>\n",
       "      <td>...</td>\n",
       "      <td>0.000000</td>\n",
       "      <td>0.000000</td>\n",
       "      <td>0.000000</td>\n",
       "      <td>0.000000</td>\n",
       "      <td>0.000000</td>\n",
       "      <td>0.0000</td>\n",
       "      <td>0.0</td>\n",
       "      <td>0.0</td>\n",
       "      <td>0.0</td>\n",
       "      <td>0.0</td>\n",
       "    </tr>\n",
       "    <tr>\n",
       "      <th>50%</th>\n",
       "      <td>0.0</td>\n",
       "      <td>0.0</td>\n",
       "      <td>0.0</td>\n",
       "      <td>0.0</td>\n",
       "      <td>0.0</td>\n",
       "      <td>0.0</td>\n",
       "      <td>0.0</td>\n",
       "      <td>0.0</td>\n",
       "      <td>0.0</td>\n",
       "      <td>0.0</td>\n",
       "      <td>...</td>\n",
       "      <td>0.000000</td>\n",
       "      <td>0.000000</td>\n",
       "      <td>0.000000</td>\n",
       "      <td>0.000000</td>\n",
       "      <td>0.000000</td>\n",
       "      <td>0.0000</td>\n",
       "      <td>0.0</td>\n",
       "      <td>0.0</td>\n",
       "      <td>0.0</td>\n",
       "      <td>0.0</td>\n",
       "    </tr>\n",
       "    <tr>\n",
       "      <th>75%</th>\n",
       "      <td>0.0</td>\n",
       "      <td>0.0</td>\n",
       "      <td>0.0</td>\n",
       "      <td>0.0</td>\n",
       "      <td>0.0</td>\n",
       "      <td>0.0</td>\n",
       "      <td>0.0</td>\n",
       "      <td>0.0</td>\n",
       "      <td>0.0</td>\n",
       "      <td>0.0</td>\n",
       "      <td>...</td>\n",
       "      <td>0.000000</td>\n",
       "      <td>0.000000</td>\n",
       "      <td>0.000000</td>\n",
       "      <td>0.000000</td>\n",
       "      <td>0.000000</td>\n",
       "      <td>0.0000</td>\n",
       "      <td>0.0</td>\n",
       "      <td>0.0</td>\n",
       "      <td>0.0</td>\n",
       "      <td>0.0</td>\n",
       "    </tr>\n",
       "    <tr>\n",
       "      <th>max</th>\n",
       "      <td>0.0</td>\n",
       "      <td>0.0</td>\n",
       "      <td>0.0</td>\n",
       "      <td>0.0</td>\n",
       "      <td>0.0</td>\n",
       "      <td>0.0</td>\n",
       "      <td>0.0</td>\n",
       "      <td>0.0</td>\n",
       "      <td>0.0</td>\n",
       "      <td>0.0</td>\n",
       "      <td>...</td>\n",
       "      <td>254.000000</td>\n",
       "      <td>254.000000</td>\n",
       "      <td>253.000000</td>\n",
       "      <td>253.000000</td>\n",
       "      <td>254.000000</td>\n",
       "      <td>62.0000</td>\n",
       "      <td>0.0</td>\n",
       "      <td>0.0</td>\n",
       "      <td>0.0</td>\n",
       "      <td>0.0</td>\n",
       "    </tr>\n",
       "  </tbody>\n",
       "</table>\n",
       "<p>8 rows × 784 columns</p>\n",
       "</div>"
      ],
      "text/plain": [
       "           0        1        2        3        4        5        6        7    \\\n",
       "count  60000.0  60000.0  60000.0  60000.0  60000.0  60000.0  60000.0  60000.0   \n",
       "mean       0.0      0.0      0.0      0.0      0.0      0.0      0.0      0.0   \n",
       "std        0.0      0.0      0.0      0.0      0.0      0.0      0.0      0.0   \n",
       "min        0.0      0.0      0.0      0.0      0.0      0.0      0.0      0.0   \n",
       "25%        0.0      0.0      0.0      0.0      0.0      0.0      0.0      0.0   \n",
       "50%        0.0      0.0      0.0      0.0      0.0      0.0      0.0      0.0   \n",
       "75%        0.0      0.0      0.0      0.0      0.0      0.0      0.0      0.0   \n",
       "max        0.0      0.0      0.0      0.0      0.0      0.0      0.0      0.0   \n",
       "\n",
       "           8        9    ...           774           775           776  \\\n",
       "count  60000.0  60000.0  ...  60000.000000  60000.000000  60000.000000   \n",
       "mean       0.0      0.0  ...      0.200433      0.088867      0.045633   \n",
       "std        0.0      0.0  ...      6.042472      3.956189      2.839845   \n",
       "min        0.0      0.0  ...      0.000000      0.000000      0.000000   \n",
       "25%        0.0      0.0  ...      0.000000      0.000000      0.000000   \n",
       "50%        0.0      0.0  ...      0.000000      0.000000      0.000000   \n",
       "75%        0.0      0.0  ...      0.000000      0.000000      0.000000   \n",
       "max        0.0      0.0  ...    254.000000    254.000000    253.000000   \n",
       "\n",
       "                777           778         779      780      781      782  \\\n",
       "count  60000.000000  60000.000000  60000.0000  60000.0  60000.0  60000.0   \n",
       "mean       0.019283      0.015117      0.0020      0.0      0.0      0.0   \n",
       "std        1.686770      1.678283      0.3466      0.0      0.0      0.0   \n",
       "min        0.000000      0.000000      0.0000      0.0      0.0      0.0   \n",
       "25%        0.000000      0.000000      0.0000      0.0      0.0      0.0   \n",
       "50%        0.000000      0.000000      0.0000      0.0      0.0      0.0   \n",
       "75%        0.000000      0.000000      0.0000      0.0      0.0      0.0   \n",
       "max      253.000000    254.000000     62.0000      0.0      0.0      0.0   \n",
       "\n",
       "           783  \n",
       "count  60000.0  \n",
       "mean       0.0  \n",
       "std        0.0  \n",
       "min        0.0  \n",
       "25%        0.0  \n",
       "50%        0.0  \n",
       "75%        0.0  \n",
       "max        0.0  \n",
       "\n",
       "[8 rows x 784 columns]"
      ]
     },
     "metadata": {},
     "output_type": "display_data"
    }
   ],
   "source": [
    "display(x_train_df.describe())"
   ]
  },
  {
   "cell_type": "markdown",
   "metadata": {},
   "source": [
    "The data behaves quite well. The values that samples can take are within reasonable range (0-255)."
   ]
  },
  {
   "cell_type": "markdown",
   "metadata": {},
   "source": [
    "Now I will check if the dataset has duplicates."
   ]
  },
  {
   "cell_type": "code",
   "execution_count": 24,
   "metadata": {},
   "outputs": [
    {
     "name": "stdout",
     "output_type": "stream",
     "text": [
      "0\n"
     ]
    }
   ],
   "source": [
    "print(x_train_df.duplicated().sum())"
   ]
  },
  {
   "cell_type": "markdown",
   "metadata": {},
   "source": [
    "Let's take a closer look at the samples:"
   ]
  },
  {
   "cell_type": "code",
   "execution_count": 25,
   "metadata": {},
   "outputs": [
    {
     "data": {
      "image/png": "[encoded data removed]",
      "text/plain": [
       "<Figure size 2000x1000 with 15 Axes>"
      ]
     },
     "metadata": {},
     "output_type": "display_data"
    }
   ],
   "source": [
    "plt.rcParams[\"figure.figsize\"] = (20, 10)\n",
    "for i in range (1, 16):\n",
    "    plt.subplot(3, 5, i)\n",
    "    sample_vector = x_train[random.randint(1, len(x_train)), :]\n",
    "    plt.imshow(sample_vector, cmap='Greys')"
   ]
  },
  {
   "cell_type": "markdown",
   "metadata": {},
   "source": [
    "# Modelling"
   ]
  },
  {
   "cell_type": "markdown",
   "metadata": {},
   "source": [
    "First of all, import all needed libraries."
   ]
  },
  {
   "cell_type": "code",
   "execution_count": 45,
   "metadata": {},
   "outputs": [],
   "source": [
    "from keras import models, layers, optimizers\n",
    "import keras_tuner as kt"
   ]
  },
  {
   "cell_type": "code",
   "execution_count": 26,
   "metadata": {},
   "outputs": [
    {
     "name": "stdout",
     "output_type": "stream",
     "text": [
      "(60000, 28, 28)\n",
      "(60000,)\n"
     ]
    }
   ],
   "source": [
    "print(x_train.shape)\n",
    "print(y_train.shape)"
   ]
  },
  {
   "cell_type": "markdown",
   "metadata": {},
   "source": [
    "Convert images into 1D tensor with values from 0 to 1."
   ]
  },
  {
   "cell_type": "code",
   "execution_count": 27,
   "metadata": {},
   "outputs": [],
   "source": [
    "x_train = x_train.reshape((60000, 28 * 28))\n",
    "x_train = x_train.astype('float32') / 255\n",
    "x_test = x_test.reshape((10000, 28 * 28))\n",
    "x_test = x_test.astype('float32') / 255"
   ]
  },
  {
   "cell_type": "markdown",
   "metadata": {},
   "source": [
    "Convert target vector into binary class matrix."
   ]
  },
  {
   "cell_type": "code",
   "execution_count": 29,
   "metadata": {},
   "outputs": [],
   "source": [
    "from keras.utils import to_categorical\n",
    "y_train = to_categorical(y_train)\n",
    "y_test = to_categorical(y_test)"
   ]
  },
  {
   "cell_type": "markdown",
   "metadata": {},
   "source": [
    "Define the function for creating a model with given hyperparameters values (which later will be used in tuning)."
   ]
  },
  {
   "cell_type": "code",
   "execution_count": 31,
   "metadata": {},
   "outputs": [],
   "source": [
    "def model_builder(hp):\n",
    "    model = models.Sequential()\n",
    "\n",
    "    hp_activation = hp.Choice('activation', values=['relu', 'tanh'])\n",
    "    hp_layer_1 = hp.Int('layer_1', min_value=300, max_value=500, step=100)\n",
    "    hp_layer_2 = hp.Int('layer_2', min_value=100, max_value=300, step=50)\n",
    "    hp_learning_rate = hp.Choice('learning_rate', values=[0.0002, 0.0005, 0.0008, 0.001, 0.002, 0.003])\n",
    "\n",
    "    model.add(layers.Dense(units=hp_layer_1, activation=hp_activation))\n",
    "    model.add(layers.Dense(units=hp_layer_2, activation=hp_activation))\n",
    "    model.add(layers.Dense(units=10, activation='softmax'))\n",
    "\n",
    "    model.compile(optimizer=optimizers.legacy.Adam(learning_rate=hp_learning_rate),\n",
    "                  loss='categorical_crossentropy',\n",
    "                  metrics=['accuracy'])\n",
    "    \n",
    "    return model"
   ]
  },
  {
   "cell_type": "markdown",
   "metadata": {},
   "source": [
    "I've decided to use Hyperband tuner to search for model with optimal hyperparameters."
   ]
  },
  {
   "cell_type": "code",
   "execution_count": 32,
   "metadata": {},
   "outputs": [],
   "source": [
    "tuner = kt.Hyperband(model_builder,\n",
    "                     objective='val_accuracy',\n",
    "                     max_epochs=20,\n",
    "                     factor=4,\n",
    "                     directory='dir',\n",
    "                     project_name='x',\n",
    "                     overwrite=True)"
   ]
  },
  {
   "cell_type": "markdown",
   "metadata": {},
   "source": [
    "Define a condition for early stopping to save time and computational resources."
   ]
  },
  {
   "cell_type": "code",
   "execution_count": 33,
   "metadata": {},
   "outputs": [],
   "source": [
    "stop_early = tf.keras.callbacks.EarlyStopping(monitor='val_accuracy', patience=10)"
   ]
  },
  {
   "cell_type": "markdown",
   "metadata": {},
   "source": [
    "Finally, search for the actual optimal model.  \n",
    "I've decided to use validation set to evaluate model's performance since it is more objective rather than evaluating it on train data (which model has already seen)."
   ]
  },
  {
   "cell_type": "code",
   "execution_count": 34,
   "metadata": {},
   "outputs": [
    {
     "name": "stdout",
     "output_type": "stream",
     "text": [
      "Trial 44 Complete [00h 02m 06s]\n",
      "val_accuracy: 0.9794444441795349\n",
      "\n",
      "Best val_accuracy So Far: 0.9835555553436279\n",
      "Total elapsed time: 00h 20m 45s\n",
      "INFO:tensorflow:Oracle triggered exit\n"
     ]
    }
   ],
   "source": [
    "tuner.search(x_train, y_train, validation_split=0.15, epochs=50, batch_size=128, callbacks=[stop_early])"
   ]
  },
  {
   "cell_type": "markdown",
   "metadata": {},
   "source": [
    "Extract best found hyperparameters."
   ]
  },
  {
   "cell_type": "code",
   "execution_count": 35,
   "metadata": {},
   "outputs": [],
   "source": [
    "best_hps = tuner.get_best_hyperparameters(num_trials=1)[0]"
   ]
  },
  {
   "cell_type": "markdown",
   "metadata": {},
   "source": [
    "Then build a model with these parameters and train it on the train data."
   ]
  },
  {
   "cell_type": "code",
   "execution_count": 36,
   "metadata": {},
   "outputs": [
    {
     "name": "stdout",
     "output_type": "stream",
     "text": [
      "Epoch 1/50\n"
     ]
    },
    {
     "name": "stderr",
     "output_type": "stream",
     "text": [
      "2024-09-03 23:33:43.906318: I tensorflow/core/grappler/optimizers/custom_graph_optimizer_registry.cc:114] Plugin optimizer for device_type GPU is enabled.\n"
     ]
    },
    {
     "name": "stdout",
     "output_type": "stream",
     "text": [
      "1594/1594 [==============================] - ETA: 0s - loss: 0.2222 - accuracy: 0.9338"
     ]
    },
    {
     "name": "stderr",
     "output_type": "stream",
     "text": [
      "2024-09-03 23:34:06.394866: I tensorflow/core/grappler/optimizers/custom_graph_optimizer_registry.cc:114] Plugin optimizer for device_type GPU is enabled.\n"
     ]
    },
    {
     "name": "stdout",
     "output_type": "stream",
     "text": [
      "1594/1594 [==============================] - 26s 16ms/step - loss: 0.2222 - accuracy: 0.9338 - val_loss: 0.1141 - val_accuracy: 0.9650\n",
      "Epoch 2/50\n",
      "1594/1594 [==============================] - 21s 13ms/step - loss: 0.0854 - accuracy: 0.9740 - val_loss: 0.0960 - val_accuracy: 0.9702\n",
      "Epoch 3/50\n",
      "1594/1594 [==============================] - 22s 14ms/step - loss: 0.0533 - accuracy: 0.9831 - val_loss: 0.0841 - val_accuracy: 0.9744\n",
      "Epoch 4/50\n",
      "1594/1594 [==============================] - 21s 13ms/step - loss: 0.0373 - accuracy: 0.9882 - val_loss: 0.0905 - val_accuracy: 0.9742\n",
      "Epoch 5/50\n",
      "1594/1594 [==============================] - 20s 13ms/step - loss: 0.0297 - accuracy: 0.9902 - val_loss: 0.0781 - val_accuracy: 0.9792\n",
      "Epoch 6/50\n",
      "1594/1594 [==============================] - 20s 12ms/step - loss: 0.0220 - accuracy: 0.9927 - val_loss: 0.0860 - val_accuracy: 0.9767\n",
      "Epoch 7/50\n",
      "1594/1594 [==============================] - 21s 13ms/step - loss: 0.0160 - accuracy: 0.9945 - val_loss: 0.0854 - val_accuracy: 0.9782\n",
      "Epoch 8/50\n",
      "1594/1594 [==============================] - 20s 12ms/step - loss: 0.0175 - accuracy: 0.9944 - val_loss: 0.0892 - val_accuracy: 0.9789\n",
      "Epoch 9/50\n",
      "1594/1594 [==============================] - 20s 13ms/step - loss: 0.0112 - accuracy: 0.9965 - val_loss: 0.0977 - val_accuracy: 0.9796\n",
      "Epoch 10/50\n",
      "1594/1594 [==============================] - 20s 13ms/step - loss: 0.0130 - accuracy: 0.9958 - val_loss: 0.0954 - val_accuracy: 0.9807\n",
      "Epoch 11/50\n",
      "1594/1594 [==============================] - 20s 13ms/step - loss: 0.0147 - accuracy: 0.9953 - val_loss: 0.0913 - val_accuracy: 0.9807\n",
      "Epoch 12/50\n",
      "1594/1594 [==============================] - 20s 13ms/step - loss: 0.0081 - accuracy: 0.9972 - val_loss: 0.0987 - val_accuracy: 0.9810\n",
      "Epoch 13/50\n",
      "1594/1594 [==============================] - 20s 12ms/step - loss: 0.0100 - accuracy: 0.9967 - val_loss: 0.1152 - val_accuracy: 0.9780\n",
      "Epoch 14/50\n",
      "1594/1594 [==============================] - 20s 12ms/step - loss: 0.0079 - accuracy: 0.9974 - val_loss: 0.1166 - val_accuracy: 0.9796\n",
      "Epoch 15/50\n",
      "1594/1594 [==============================] - 20s 12ms/step - loss: 0.0081 - accuracy: 0.9973 - val_loss: 0.1072 - val_accuracy: 0.9824\n",
      "Epoch 16/50\n",
      "1594/1594 [==============================] - 20s 13ms/step - loss: 0.0077 - accuracy: 0.9977 - val_loss: 0.1171 - val_accuracy: 0.9816\n",
      "Epoch 17/50\n",
      "1594/1594 [==============================] - 21s 13ms/step - loss: 0.0078 - accuracy: 0.9972 - val_loss: 0.0980 - val_accuracy: 0.9824\n",
      "Epoch 18/50\n",
      "1594/1594 [==============================] - 21s 13ms/step - loss: 0.0069 - accuracy: 0.9977 - val_loss: 0.0929 - val_accuracy: 0.9838\n",
      "Epoch 19/50\n",
      "1594/1594 [==============================] - 20s 13ms/step - loss: 0.0065 - accuracy: 0.9978 - val_loss: 0.1123 - val_accuracy: 0.9817\n",
      "Epoch 20/50\n",
      "1594/1594 [==============================] - 20s 13ms/step - loss: 0.0076 - accuracy: 0.9974 - val_loss: 0.1063 - val_accuracy: 0.9826\n",
      "Epoch 21/50\n",
      "1594/1594 [==============================] - 20s 13ms/step - loss: 0.0051 - accuracy: 0.9983 - val_loss: 0.1109 - val_accuracy: 0.9813\n",
      "Epoch 22/50\n",
      "1594/1594 [==============================] - 20s 13ms/step - loss: 0.0055 - accuracy: 0.9985 - val_loss: 0.1313 - val_accuracy: 0.9811\n",
      "Epoch 23/50\n",
      "1594/1594 [==============================] - 21s 13ms/step - loss: 0.0069 - accuracy: 0.9981 - val_loss: 0.1085 - val_accuracy: 0.9811\n",
      "Epoch 24/50\n",
      "1594/1594 [==============================] - 20s 13ms/step - loss: 0.0042 - accuracy: 0.9987 - val_loss: 0.1274 - val_accuracy: 0.9832\n",
      "Epoch 25/50\n",
      "1594/1594 [==============================] - 20s 13ms/step - loss: 0.0069 - accuracy: 0.9976 - val_loss: 0.1219 - val_accuracy: 0.9821\n",
      "Epoch 26/50\n",
      "1594/1594 [==============================] - 20s 13ms/step - loss: 0.0051 - accuracy: 0.9984 - val_loss: 0.1255 - val_accuracy: 0.9827\n",
      "Epoch 27/50\n",
      "1594/1594 [==============================] - 20s 13ms/step - loss: 0.0044 - accuracy: 0.9988 - val_loss: 0.1449 - val_accuracy: 0.9811\n",
      "Epoch 28/50\n",
      "1594/1594 [==============================] - 20s 13ms/step - loss: 0.0052 - accuracy: 0.9984 - val_loss: 0.1352 - val_accuracy: 0.9814\n"
     ]
    }
   ],
   "source": [
    "tuned_model = tuner.hypermodel.build(best_hps)\n",
    "history = tuned_model.fit(x_train, y_train, epochs=50, validation_split=0.15, callbacks=[stop_early])"
   ]
  },
  {
   "cell_type": "markdown",
   "metadata": {},
   "source": [
    "It's also interesting to see how does the number of epochs affect model's performance."
   ]
  },
  {
   "cell_type": "code",
   "execution_count": 37,
   "metadata": {},
   "outputs": [],
   "source": [
    "train_loss = history.history['loss']\n",
    "train_accuracy = history.history['accuracy']"
   ]
  },
  {
   "cell_type": "code",
   "execution_count": 38,
   "metadata": {},
   "outputs": [
    {
     "name": "stderr",
     "output_type": "stream",
     "text": [
      "/var/folders/qz/3kcb9rx96w59f3n6xcwd21fw0000gn/T/ipykernel_85432/1376980326.py:15: UserWarning: FigureCanvasAgg is non-interactive, and thus cannot be shown\n",
      "  figure.show();\n"
     ]
    },
    {
     "data": {
      "image/png": "[encoded data removed]",
      "text/plain": [
       "<Figure size 1800x500 with 2 Axes>"
      ]
     },
     "metadata": {},
     "output_type": "display_data"
    }
   ],
   "source": [
    "num_epochs = np.arange(len(train_loss))\n",
    "\n",
    "figure, (ax1, ax2) = plt.subplots(1, 2, sharex=True, figsize=(18, 5))\n",
    "ax1.plot(num_epochs, train_loss)\n",
    "ax1.set_title('training loss', fontsize=11)\n",
    "ax1.set_xlabel('# of epochs', fontsize=11)\n",
    "ax1.set_xticks(num_epochs[::2])\n",
    "ax1.grid(True)\n",
    "ax1.grid(color='gray', linestyle='-', linewidth=0.4)\n",
    "ax2.plot(num_epochs, train_accuracy)\n",
    "ax2.set_title('training accuracy', fontsize=11)\n",
    "ax2.set_xlabel('# of epochs', fontsize=11)\n",
    "ax2.grid(True)\n",
    "ax2.grid(color='gray', linestyle='-', linewidth=0.4)\n",
    "figure.show();"
   ]
  },
  {
   "cell_type": "markdown",
   "metadata": {},
   "source": [
    "We can observe fewer number of epochs on the plots. This is beacause of the stop_early condition."
   ]
  },
  {
   "cell_type": "markdown",
   "metadata": {},
   "source": [
    "Let's now evaluate the best model on the given data and compare them to see if we have overfitting:"
   ]
  },
  {
   "cell_type": "code",
   "execution_count": 39,
   "metadata": {},
   "outputs": [
    {
     "name": "stdout",
     "output_type": "stream",
     "text": [
      "1875/1875 [==============================] - 18s 9ms/step - loss: 0.0246 - accuracy: 0.9960\n",
      "313/313 [==============================] - 3s 9ms/step - loss: 0.1166 - accuracy: 0.9831\n"
     ]
    }
   ],
   "source": [
    "train_results = tuned_model.evaluate(x_train, y_train, return_dict=True)\n",
    "test_results = tuned_model.evaluate(x_test, y_test, return_dict=True)"
   ]
  },
  {
   "cell_type": "code",
   "execution_count": 40,
   "metadata": {},
   "outputs": [
    {
     "name": "stdout",
     "output_type": "stream",
     "text": [
      "Results on TRAIN data:\n",
      "loss:      0.024626312777400017\n",
      "accuracy:  0.9959666728973389 \n",
      "\n",
      "Results on TEST data:\n",
      "loss:      0.11655318737030029\n",
      "accuracy:  0.9830999970436096 \n",
      "\n",
      "Overfitting!\n",
      "Difference between train and test accuracy:  0.012866675853729248\n"
     ]
    }
   ],
   "source": [
    "print('Results on TRAIN data:')\n",
    "print('loss:     ', train_results['loss'])\n",
    "print('accuracy: ', train_results['accuracy'], '\\n')\n",
    "print('Results on TEST data:')\n",
    "print('loss:     ', test_results['loss'])\n",
    "print('accuracy: ', test_results['accuracy'], '\\n')\n",
    "if (test_results['accuracy'] <= train_results['accuracy']):\n",
    "    print('Overfitting!')\n",
    "    print('Difference between train and test accuracy: ', abs(test_results['accuracy']-train_results['accuracy']))"
   ]
  },
  {
   "cell_type": "markdown",
   "metadata": {},
   "source": [
    "Let's get a closer look of missclassified samples"
   ]
  },
  {
   "cell_type": "code",
   "execution_count": 46,
   "metadata": {},
   "outputs": [
    {
     "name": "stdout",
     "output_type": "stream",
     "text": [
      "313/313 [==============================] - 1s 1ms/step\n"
     ]
    }
   ],
   "source": [
    "test_predictions = tuned_model.predict(x_test)\n",
    "predicted_classes = np.argmax(test_predictions, axis=1)"
   ]
  },
  {
   "cell_type": "code",
   "execution_count": 47,
   "metadata": {},
   "outputs": [],
   "source": [
    "misclassified_indices = np.where(predicted_classes != y_test)[0]"
   ]
  },
  {
   "cell_type": "code",
   "execution_count": 48,
   "metadata": {},
   "outputs": [
    {
     "data": {
      "image/png": "[encoded data removed]",
      "text/plain": [
       "<Figure size 1000x1000 with 10 Axes>"
      ]
     },
     "metadata": {},
     "output_type": "display_data"
    }
   ],
   "source": [
    "num_display = 10\n",
    "plt.figure(figsize=(10, 10))\n",
    "\n",
    "for i, index in enumerate(misclassified_indices[:num_display]):\n",
    "    plt.subplot(5, 5, i+1)\n",
    "    image = x_test[index].reshape(28, 28)\n",
    "    plt.imshow(image, cmap='gray')\n",
    "    plt.title(f\"True: {y_test[index]}, Pred: {predicted_classes[index]}\", fontsize=11)\n",
    "    plt.axis('off')\n",
    "\n",
    "plt.suptitle(\"Misclassified samples\", fontsize=12)\n",
    "plt.tight_layout()\n",
    "plt.show()"
   ]
  }
 ],
 "metadata": {
  "kernelspec": {
   "display_name": "Python 3",
   "language": "python",
   "name": "python3"
  },
  "language_info": {
   "codemirror_mode": {
    "name": "ipython",
    "version": 3
   },
   "file_extension": ".py",
   "mimetype": "text/x-python",
   "name": "python",
   "nbconvert_exporter": "python",
   "pygments_lexer": "ipython3",
   "version": "3.10.0"
  }
 },
 "nbformat": 4,
 "nbformat_minor": 2
}
